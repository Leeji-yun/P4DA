{
 "cells": [
  {
   "cell_type": "markdown",
   "id": "eda8ece6",
   "metadata": {},
   "source": [
    "# 1. 자료구조와 순차 자료형\n",
    "\n",
    "### 1) 튜플\n",
    "\n",
    "1차원의 고정된 크기를 가지는 변경 불가능한 순차 자료형"
   ]
  },
  {
   "cell_type": "code",
   "execution_count": 2,
   "id": "3bc074b3",
   "metadata": {},
   "outputs": [
    {
     "data": {
      "text/plain": [
       "(4, 5, 6)"
      ]
     },
     "execution_count": 2,
     "metadata": {},
     "output_type": "execute_result"
    }
   ],
   "source": [
    "tup = 4,5,6\n",
    "tup"
   ]
  },
  {
   "cell_type": "code",
   "execution_count": 3,
   "id": "7c17d22f",
   "metadata": {},
   "outputs": [
    {
     "data": {
      "text/plain": [
       "((4, 5, 6), (7, 8))"
      ]
     },
     "execution_count": 3,
     "metadata": {},
     "output_type": "execute_result"
    }
   ],
   "source": [
    "# 중첩된 튜플(튜플의 튜플)\n",
    "nested_tup = (4,5,6), (7,8)\n",
    "nested_tup"
   ]
  },
  {
   "cell_type": "code",
   "execution_count": 5,
   "id": "11980044",
   "metadata": {},
   "outputs": [
    {
     "data": {
      "text/plain": [
       "(4, 0, 2)"
      ]
     },
     "execution_count": 5,
     "metadata": {},
     "output_type": "execute_result"
    }
   ],
   "source": [
    "# tuple 메서드를 호출해 튜플로 변환\n",
    "tuple([4,0,2])"
   ]
  },
  {
   "cell_type": "code",
   "execution_count": 2,
   "id": "b022befc",
   "metadata": {},
   "outputs": [
    {
     "data": {
      "text/plain": [
       "('s', 't', 'r', 'i', 'n', 'g')"
      ]
     },
     "execution_count": 2,
     "metadata": {},
     "output_type": "execute_result"
    }
   ],
   "source": [
    "tup=tuple('string')\n",
    "tup"
   ]
  },
  {
   "cell_type": "code",
   "execution_count": 3,
   "id": "9c290a56",
   "metadata": {},
   "outputs": [
    {
     "data": {
      "text/plain": [
       "'s'"
      ]
     },
     "execution_count": 3,
     "metadata": {},
     "output_type": "execute_result"
    }
   ],
   "source": [
    "tup[0]"
   ]
  },
  {
   "cell_type": "code",
   "execution_count": 11,
   "id": "c26388e2",
   "metadata": {},
   "outputs": [],
   "source": [
    "tup = tuple(['foo', [1,2], True])"
   ]
  },
  {
   "cell_type": "code",
   "execution_count": 6,
   "id": "76a9bff2",
   "metadata": {},
   "outputs": [
    {
     "ename": "TypeError",
     "evalue": "'tuple' object does not support item assignment",
     "output_type": "error",
     "traceback": [
      "\u001b[1;31m---------------------------------------------------------------------------\u001b[0m",
      "\u001b[1;31mTypeError\u001b[0m                                 Traceback (most recent call last)",
      "\u001b[1;32m~\\AppData\\Local\\Temp/ipykernel_12328/3440851503.py\u001b[0m in \u001b[0;36m<module>\u001b[1;34m\u001b[0m\n\u001b[1;32m----> 1\u001b[1;33m \u001b[0mtup\u001b[0m\u001b[1;33m[\u001b[0m\u001b[1;36m2\u001b[0m\u001b[1;33m]\u001b[0m \u001b[1;33m=\u001b[0m \u001b[1;32mFalse\u001b[0m\u001b[1;33m\u001b[0m\u001b[1;33m\u001b[0m\u001b[0m\n\u001b[0m",
      "\u001b[1;31mTypeError\u001b[0m: 'tuple' object does not support item assignment"
     ]
    }
   ],
   "source": [
    "tup[2] = False"
   ]
  },
  {
   "cell_type": "code",
   "execution_count": 12,
   "id": "fad46011",
   "metadata": {},
   "outputs": [
    {
     "data": {
      "text/plain": [
       "('foo', [1, 2, 3], True)"
      ]
     },
     "execution_count": 12,
     "metadata": {},
     "output_type": "execute_result"
    }
   ],
   "source": [
    "tup[1].append(3)\n",
    "    \n",
    "tup"
   ]
  },
  {
   "cell_type": "code",
   "execution_count": 15,
   "id": "80d7e8df",
   "metadata": {},
   "outputs": [
    {
     "data": {
      "text/plain": [
       "5"
      ]
     },
     "execution_count": 15,
     "metadata": {},
     "output_type": "execute_result"
    }
   ],
   "source": [
    "# 값 분리\n",
    "tup = (4,5,6)\n",
    "\n",
    "a,b,c = tup\n",
    "\n",
    "b"
   ]
  },
  {
   "cell_type": "code",
   "execution_count": 67,
   "id": "188ec054",
   "metadata": {},
   "outputs": [
    {
     "data": {
      "text/plain": [
       "7"
      ]
     },
     "execution_count": 67,
     "metadata": {},
     "output_type": "execute_result"
    }
   ],
   "source": [
    "tup = 4, 5, (6, 7)\n",
    "\n",
    "a, b, (c, d) = tup\n",
    "d"
   ]
  },
  {
   "cell_type": "markdown",
   "id": "3d175b8d",
   "metadata": {},
   "source": [
    "- 다른 언어와 다르게 아래와 같은 방법으로 두 변수의 값을 쉽게 바꿀 수 있음"
   ]
  },
  {
   "cell_type": "code",
   "execution_count": 19,
   "id": "f292aa10",
   "metadata": {
    "scrolled": true
   },
   "outputs": [
    {
     "data": {
      "text/plain": [
       "1"
      ]
     },
     "execution_count": 19,
     "metadata": {},
     "output_type": "execute_result"
    }
   ],
   "source": [
    "a, b = 1, 2\n",
    "a"
   ]
  },
  {
   "cell_type": "code",
   "execution_count": 20,
   "id": "e7c69bcc",
   "metadata": {},
   "outputs": [
    {
     "data": {
      "text/plain": [
       "2"
      ]
     },
     "execution_count": 20,
     "metadata": {},
     "output_type": "execute_result"
    }
   ],
   "source": [
    "b"
   ]
  },
  {
   "cell_type": "code",
   "execution_count": 23,
   "id": "c3d7e583",
   "metadata": {},
   "outputs": [
    {
     "data": {
      "text/plain": [
       "2"
      ]
     },
     "execution_count": 23,
     "metadata": {},
     "output_type": "execute_result"
    }
   ],
   "source": [
    "b, a = a, b\n",
    "a"
   ]
  },
  {
   "cell_type": "code",
   "execution_count": 28,
   "id": "4d154bd0",
   "metadata": {},
   "outputs": [
    {
     "name": "stdout",
     "output_type": "stream",
     "text": [
      "a=1, b=2, c=3\n",
      "a=4, b=5, c=6\n",
      "a=7, b=8, c=9\n"
     ]
    }
   ],
   "source": [
    "seq = [(1,2,3),(4,5,6),(7,8,9)]\n",
    "\n",
    "for a, b, c in seq:\n",
    "    print('a={0}, b={1}, c={2}'.format(a,b,c))"
   ]
  },
  {
   "cell_type": "code",
   "execution_count": 44,
   "id": "237a5345",
   "metadata": {},
   "outputs": [
    {
     "data": {
      "text/plain": [
       "(1, 2)"
      ]
     },
     "execution_count": 44,
     "metadata": {},
     "output_type": "execute_result"
    }
   ],
   "source": [
    "values = 1,2,3,4,5\n",
    "\n",
    "a, b, *rest = values\n",
    "\n",
    "a, b"
   ]
  },
  {
   "cell_type": "code",
   "execution_count": 45,
   "id": "bc2af307",
   "metadata": {},
   "outputs": [
    {
     "data": {
      "text/plain": [
       "[3, 4, 5]"
      ]
     },
     "execution_count": 45,
     "metadata": {},
     "output_type": "execute_result"
    }
   ],
   "source": [
    "rest"
   ]
  },
  {
   "cell_type": "code",
   "execution_count": 47,
   "id": "dc3332ca",
   "metadata": {},
   "outputs": [
    {
     "data": {
      "text/plain": [
       "(1, 2)"
      ]
     },
     "execution_count": 47,
     "metadata": {},
     "output_type": "execute_result"
    }
   ],
   "source": [
    "a, b, *_ = values\n",
    "\n",
    "a,b"
   ]
  },
  {
   "cell_type": "markdown",
   "id": "83bb3505",
   "metadata": {},
   "source": [
    "- 주어진 값과 같은 값이 몇개 있는지 반환하는 count 메서드"
   ]
  },
  {
   "cell_type": "code",
   "execution_count": 49,
   "id": "b442f5d6",
   "metadata": {},
   "outputs": [
    {
     "data": {
      "text/plain": [
       "4"
      ]
     },
     "execution_count": 49,
     "metadata": {},
     "output_type": "execute_result"
    }
   ],
   "source": [
    "a = (1,2,2,2,3,4,2)\n",
    "\n",
    "a.count(2)"
   ]
  },
  {
   "cell_type": "markdown",
   "id": "4f170f39",
   "metadata": {},
   "source": [
    "### 2) 리스트\n",
    "크기나 내용의 변경이 가능"
   ]
  },
  {
   "cell_type": "code",
   "execution_count": 50,
   "id": "72a79ff3",
   "metadata": {},
   "outputs": [],
   "source": [
    "a_list = [2,3,7,None]"
   ]
  },
  {
   "cell_type": "code",
   "execution_count": 58,
   "id": "41a0e534",
   "metadata": {},
   "outputs": [
    {
     "data": {
      "text/plain": [
       "['foo', 'bar', 'baz']"
      ]
     },
     "execution_count": 58,
     "metadata": {},
     "output_type": "execute_result"
    }
   ],
   "source": [
    "tup = ('foo', 'bar', 'baz')\n",
    "b_list=list(tup)\n",
    "b_list"
   ]
  },
  {
   "cell_type": "code",
   "execution_count": 59,
   "id": "a0d8a220",
   "metadata": {},
   "outputs": [
    {
     "data": {
      "text/plain": [
       "['foo', 'peekaboo', 'baz']"
      ]
     },
     "execution_count": 59,
     "metadata": {},
     "output_type": "execute_result"
    }
   ],
   "source": [
    "b_list[1]='peekaboo'\n",
    "b_list"
   ]
  },
  {
   "cell_type": "markdown",
   "id": "8b17bbe3",
   "metadata": {},
   "source": [
    "- list 함수는 이터레이터나 제너레이터 표현에서 실제 값을 모두 담기 위한 용도로도 사용됨"
   ]
  },
  {
   "cell_type": "code",
   "execution_count": 54,
   "id": "53fa445e",
   "metadata": {},
   "outputs": [
    {
     "data": {
      "text/plain": [
       "range(0, 10)"
      ]
     },
     "execution_count": 54,
     "metadata": {},
     "output_type": "execute_result"
    }
   ],
   "source": [
    "gen = range(10)\n",
    "gen"
   ]
  },
  {
   "cell_type": "code",
   "execution_count": 55,
   "id": "35d2efb3",
   "metadata": {
    "scrolled": true
   },
   "outputs": [
    {
     "data": {
      "text/plain": [
       "[0, 1, 2, 3, 4, 5, 6, 7, 8, 9]"
      ]
     },
     "execution_count": 55,
     "metadata": {},
     "output_type": "execute_result"
    }
   ],
   "source": [
    "list(gen)"
   ]
  },
  {
   "cell_type": "markdown",
   "id": "2e8046c1",
   "metadata": {},
   "source": [
    "- 원소 추가/삭제"
   ]
  },
  {
   "cell_type": "code",
   "execution_count": 60,
   "id": "8edadfae",
   "metadata": {},
   "outputs": [
    {
     "data": {
      "text/plain": [
       "['foo', 'peekaboo', 'baz', 'dwarf']"
      ]
     },
     "execution_count": 60,
     "metadata": {},
     "output_type": "execute_result"
    }
   ],
   "source": [
    "b_list.append('dwarf')\n",
    "b_list"
   ]
  },
  {
   "cell_type": "code",
   "execution_count": 61,
   "id": "fe94c361",
   "metadata": {},
   "outputs": [
    {
     "data": {
      "text/plain": [
       "['foo', 'red', 'peekaboo', 'baz', 'dwarf']"
      ]
     },
     "execution_count": 61,
     "metadata": {},
     "output_type": "execute_result"
    }
   ],
   "source": [
    "b_list.insert(1,'red')\n",
    "b_list"
   ]
  },
  {
   "cell_type": "code",
   "execution_count": 65,
   "id": "ca50727a",
   "metadata": {},
   "outputs": [
    {
     "data": {
      "text/plain": [
       "'peekaboo'"
      ]
     },
     "execution_count": 65,
     "metadata": {},
     "output_type": "execute_result"
    }
   ],
   "source": [
    "b_list.pop(2) #특정 위치의 값을 반환"
   ]
  },
  {
   "cell_type": "code",
   "execution_count": 66,
   "id": "552d7eef",
   "metadata": {},
   "outputs": [
    {
     "data": {
      "text/plain": [
       "['foo', 'red', 'baz', 'dwarf']"
      ]
     },
     "execution_count": 66,
     "metadata": {},
     "output_type": "execute_result"
    }
   ],
   "source": [
    "b_list"
   ]
  },
  {
   "cell_type": "code",
   "execution_count": 68,
   "id": "a68e2d3c",
   "metadata": {},
   "outputs": [],
   "source": [
    "b_list.remove('foo') #같은 원소가 두번 이상 나타날 경우 리스트에서 제일 앞에 위치한 값부터 삭제됨\n",
    "b_list"
   ]
  },
  {
   "cell_type": "markdown",
   "id": "5bb2d434",
   "metadata": {},
   "source": [
    "- in 예약어"
   ]
  },
  {
   "cell_type": "code",
   "execution_count": 70,
   "id": "f1640508",
   "metadata": {},
   "outputs": [
    {
     "data": {
      "text/plain": [
       "True"
      ]
     },
     "execution_count": 70,
     "metadata": {},
     "output_type": "execute_result"
    }
   ],
   "source": [
    "'dwarf' in b_list"
   ]
  },
  {
   "cell_type": "code",
   "execution_count": 71,
   "id": "ea0a4725",
   "metadata": {},
   "outputs": [
    {
     "data": {
      "text/plain": [
       "False"
      ]
     },
     "execution_count": 71,
     "metadata": {},
     "output_type": "execute_result"
    }
   ],
   "source": [
    "'dwarf' not in b_list"
   ]
  },
  {
   "cell_type": "markdown",
   "id": "c98b5943",
   "metadata": {},
   "source": [
    "- 리스트 이어붙이기"
   ]
  },
  {
   "cell_type": "code",
   "execution_count": 72,
   "id": "3b453544",
   "metadata": {},
   "outputs": [
    {
     "data": {
      "text/plain": [
       "[4, None, 'foo', 7, 8, (2, 3)]"
      ]
     },
     "execution_count": 72,
     "metadata": {},
     "output_type": "execute_result"
    }
   ],
   "source": [
    "[4, None, 'foo'] + [7, 8 ,(2,3)]"
   ]
  },
  {
   "cell_type": "code",
   "execution_count": 73,
   "id": "a69d4230",
   "metadata": {},
   "outputs": [
    {
     "data": {
      "text/plain": [
       "[4, None, 'foo', 7, 8, (2, 3)]"
      ]
     },
     "execution_count": 73,
     "metadata": {},
     "output_type": "execute_result"
    }
   ],
   "source": [
    "x = [4, None, 'foo']\n",
    "\n",
    "x.extend([7, 8 ,(2,3)])\n",
    "x"
   ]
  },
  {
   "cell_type": "markdown",
   "id": "a6e9c1fe",
   "metadata": {},
   "source": [
    "- 정렬"
   ]
  },
  {
   "cell_type": "code",
   "execution_count": 74,
   "id": "69c9f923",
   "metadata": {},
   "outputs": [
    {
     "data": {
      "text/plain": [
       "[1, 2, 3, 5, 7]"
      ]
     },
     "execution_count": 74,
     "metadata": {},
     "output_type": "execute_result"
    }
   ],
   "source": [
    "a=[7,2,5,1,3]\n",
    "a.sort() #새로운 리스트를 생성하지 않고 있는 그대로 리스트를 정렬\n",
    "a"
   ]
  },
  {
   "cell_type": "code",
   "execution_count": 75,
   "id": "803ade02",
   "metadata": {},
   "outputs": [
    {
     "data": {
      "text/plain": [
       "['He', 'saw', 'six', 'small', 'foxes']"
      ]
     },
     "execution_count": 75,
     "metadata": {},
     "output_type": "execute_result"
    }
   ],
   "source": [
    "b = ['saw', 'small', 'He', 'foxes', 'six']\n",
    "b.sort(key=len)\n",
    "b"
   ]
  },
  {
   "cell_type": "markdown",
   "id": "23fc50b7",
   "metadata": {},
   "source": [
    "- bisect 모듈  \n",
    "- bisect.bisect -> 값이 추가될 때 리스트가 정렬된 상태를 유지할 수 있는 위치 반환  \n",
    "- bisect.insort -> 실제로 정렬된 상태를 유지한 채 값을 추가  \n",
    "- (정렬되지 않은 리스트에 대해 수행하면 정확하지 않은 값 반환)"
   ]
  },
  {
   "cell_type": "code",
   "execution_count": 1,
   "id": "8ccf2273",
   "metadata": {},
   "outputs": [],
   "source": [
    "import bisect"
   ]
  },
  {
   "cell_type": "code",
   "execution_count": 21,
   "id": "4ad851ca",
   "metadata": {},
   "outputs": [],
   "source": [
    "c=[1,2,2,2,3,4,7]"
   ]
  },
  {
   "cell_type": "code",
   "execution_count": 22,
   "id": "06561147",
   "metadata": {},
   "outputs": [
    {
     "data": {
      "text/plain": [
       "4"
      ]
     },
     "execution_count": 22,
     "metadata": {},
     "output_type": "execute_result"
    }
   ],
   "source": [
    "bisect.bisect(c,2)"
   ]
  },
  {
   "cell_type": "code",
   "execution_count": 23,
   "id": "2bf37576",
   "metadata": {},
   "outputs": [
    {
     "data": {
      "text/plain": [
       "6"
      ]
     },
     "execution_count": 23,
     "metadata": {},
     "output_type": "execute_result"
    }
   ],
   "source": [
    "bisect.bisect(c,5)"
   ]
  },
  {
   "cell_type": "code",
   "execution_count": 24,
   "id": "fb7534a9",
   "metadata": {},
   "outputs": [],
   "source": [
    "bisect.insort(c,6)"
   ]
  },
  {
   "cell_type": "code",
   "execution_count": 25,
   "id": "308f568e",
   "metadata": {},
   "outputs": [
    {
     "data": {
      "text/plain": [
       "[1, 2, 2, 2, 3, 4, 6, 7]"
      ]
     },
     "execution_count": 25,
     "metadata": {},
     "output_type": "execute_result"
    }
   ],
   "source": [
    "c"
   ]
  },
  {
   "cell_type": "markdown",
   "id": "2b8d8190",
   "metadata": {},
   "source": [
    "- 슬라이싱"
   ]
  },
  {
   "cell_type": "code",
   "execution_count": 26,
   "id": "189472be",
   "metadata": {},
   "outputs": [],
   "source": [
    "seq = [7,2,3,7,5,6,0,1]"
   ]
  },
  {
   "cell_type": "code",
   "execution_count": 27,
   "id": "aac52dcb",
   "metadata": {},
   "outputs": [
    {
     "data": {
      "text/plain": [
       "[2, 3, 7, 5]"
      ]
     },
     "execution_count": 27,
     "metadata": {},
     "output_type": "execute_result"
    }
   ],
   "source": [
    "seq[1:5]"
   ]
  },
  {
   "cell_type": "code",
   "execution_count": 28,
   "id": "fdf568fa",
   "metadata": {},
   "outputs": [],
   "source": [
    "seq[3:4] = [6,3]"
   ]
  },
  {
   "cell_type": "code",
   "execution_count": 29,
   "id": "50c3337d",
   "metadata": {},
   "outputs": [
    {
     "data": {
      "text/plain": [
       "[7, 2, 3, 6, 3, 5, 6, 0, 1]"
      ]
     },
     "execution_count": 29,
     "metadata": {},
     "output_type": "execute_result"
    }
   ],
   "source": [
    "seq"
   ]
  },
  {
   "cell_type": "code",
   "execution_count": 30,
   "id": "cc1ee0e7",
   "metadata": {},
   "outputs": [
    {
     "data": {
      "text/plain": [
       "[7, 2, 3, 6, 3]"
      ]
     },
     "execution_count": 30,
     "metadata": {},
     "output_type": "execute_result"
    }
   ],
   "source": [
    "seq[:5]"
   ]
  },
  {
   "cell_type": "code",
   "execution_count": 31,
   "id": "1327eddd",
   "metadata": {},
   "outputs": [
    {
     "data": {
      "text/plain": [
       "[6, 3, 5, 6, 0, 1]"
      ]
     },
     "execution_count": 31,
     "metadata": {},
     "output_type": "execute_result"
    }
   ],
   "source": [
    "seq[3:]"
   ]
  },
  {
   "cell_type": "code",
   "execution_count": 35,
   "id": "8ba03a26",
   "metadata": {},
   "outputs": [
    {
     "data": {
      "text/plain": [
       "[5, 6, 0, 1]"
      ]
     },
     "execution_count": 35,
     "metadata": {},
     "output_type": "execute_result"
    }
   ],
   "source": [
    "seq[-4:]"
   ]
  },
  {
   "cell_type": "code",
   "execution_count": 36,
   "id": "c8dbe413",
   "metadata": {},
   "outputs": [
    {
     "data": {
      "text/plain": [
       "[6, 3, 5, 6]"
      ]
     },
     "execution_count": 36,
     "metadata": {},
     "output_type": "execute_result"
    }
   ],
   "source": [
    "seq[-6:-2]"
   ]
  },
  {
   "cell_type": "code",
   "execution_count": 37,
   "id": "cfca232b",
   "metadata": {},
   "outputs": [
    {
     "data": {
      "text/plain": [
       "[7, 3, 3, 6, 1]"
      ]
     },
     "execution_count": 37,
     "metadata": {},
     "output_type": "execute_result"
    }
   ],
   "source": [
    "seq[::2]  #두 번째 콜론 다음에 간격 지정"
   ]
  },
  {
   "cell_type": "code",
   "execution_count": 38,
   "id": "0b1c4d4b",
   "metadata": {},
   "outputs": [
    {
     "data": {
      "text/plain": [
       "[1, 0, 6, 5, 3, 6, 3, 2, 7]"
      ]
     },
     "execution_count": 38,
     "metadata": {},
     "output_type": "execute_result"
    }
   ],
   "source": [
    "seq[::-1] # 간격으로 -1을 주면 리스트나 튜플을 역순으로 반환"
   ]
  },
  {
   "cell_type": "markdown",
   "id": "665039b3",
   "metadata": {},
   "source": [
    "### 3) 순차 자료형 함수"
   ]
  },
  {
   "cell_type": "markdown",
   "id": "8e9b6907",
   "metadata": {},
   "source": [
    "- enumerate (현재 아이템의 색인을 함게 처리)"
   ]
  },
  {
   "cell_type": "code",
   "execution_count": 1,
   "id": "1e17ada9",
   "metadata": {},
   "outputs": [],
   "source": [
    "some_list = ['foo', 'bar', 'baz']"
   ]
  },
  {
   "cell_type": "code",
   "execution_count": 2,
   "id": "628ae923",
   "metadata": {},
   "outputs": [],
   "source": [
    "mapping = {}"
   ]
  },
  {
   "cell_type": "code",
   "execution_count": 3,
   "id": "2e3e0d9a",
   "metadata": {},
   "outputs": [],
   "source": [
    "for i, v in enumerate(some_list):\n",
    "    mapping[v] = i"
   ]
  },
  {
   "cell_type": "code",
   "execution_count": 4,
   "id": "b080a810",
   "metadata": {},
   "outputs": [
    {
     "data": {
      "text/plain": [
       "{'foo': 0, 'bar': 1, 'baz': 2}"
      ]
     },
     "execution_count": 4,
     "metadata": {},
     "output_type": "execute_result"
    }
   ],
   "source": [
    "mapping"
   ]
  },
  {
   "cell_type": "markdown",
   "id": "30ec7e85",
   "metadata": {},
   "source": [
    "- sorted (정렬)"
   ]
  },
  {
   "cell_type": "code",
   "execution_count": 5,
   "id": "51e8867d",
   "metadata": {},
   "outputs": [
    {
     "data": {
      "text/plain": [
       "[0, 1, 2, 2, 3, 6, 7]"
      ]
     },
     "execution_count": 5,
     "metadata": {},
     "output_type": "execute_result"
    }
   ],
   "source": [
    "sorted([7,1,2,6,0,3,2])"
   ]
  },
  {
   "cell_type": "code",
   "execution_count": 6,
   "id": "4d9f09fc",
   "metadata": {},
   "outputs": [
    {
     "data": {
      "text/plain": [
       "[' ', 'a', 'c', 'e', 'e', 'h', 'o', 'r', 'r', 's']"
      ]
     },
     "execution_count": 6,
     "metadata": {},
     "output_type": "execute_result"
    }
   ],
   "source": [
    "sorted('horse race')"
   ]
  },
  {
   "cell_type": "markdown",
   "id": "5a9bd38f",
   "metadata": {},
   "source": [
    "- zip (여러개의 순차 자료형을 서로 짝지어 튜플의 리스트 생성)"
   ]
  },
  {
   "cell_type": "code",
   "execution_count": 7,
   "id": "165dde31",
   "metadata": {},
   "outputs": [],
   "source": [
    "seq1=['foo','bar','baz']"
   ]
  },
  {
   "cell_type": "code",
   "execution_count": 8,
   "id": "01a8f8d6",
   "metadata": {},
   "outputs": [],
   "source": [
    "seq2=['one','two','three']"
   ]
  },
  {
   "cell_type": "code",
   "execution_count": 9,
   "id": "95e97820",
   "metadata": {},
   "outputs": [],
   "source": [
    "zipped=zip(seq1, seq2)"
   ]
  },
  {
   "cell_type": "code",
   "execution_count": 13,
   "id": "a9caf966",
   "metadata": {},
   "outputs": [
    {
     "data": {
      "text/plain": [
       "[('foo', 'one'), ('bar', 'two'), ('baz', 'three')]"
      ]
     },
     "execution_count": 13,
     "metadata": {},
     "output_type": "execute_result"
    }
   ],
   "source": [
    "list(zipped)"
   ]
  },
  {
   "cell_type": "code",
   "execution_count": 14,
   "id": "946a266e",
   "metadata": {},
   "outputs": [],
   "source": [
    "seq3=[False, True] "
   ]
  },
  {
   "cell_type": "code",
   "execution_count": 15,
   "id": "67984723",
   "metadata": {},
   "outputs": [
    {
     "data": {
      "text/plain": [
       "[('foo', 'one', False), ('bar', 'two', True)]"
      ]
     },
     "execution_count": 15,
     "metadata": {},
     "output_type": "execute_result"
    }
   ],
   "source": [
    "list(zip(seq1, seq2, seq3)) # 넘겨받은 순차자료형 중 가장 짧은 크기로 리스트 반환"
   ]
  },
  {
   "cell_type": "code",
   "execution_count": 18,
   "id": "9e7512c3",
   "metadata": {},
   "outputs": [
    {
     "name": "stdout",
     "output_type": "stream",
     "text": [
      "0 : foo, one\n",
      "1 : bar, two\n",
      "2 : baz, three\n"
     ]
    }
   ],
   "source": [
    "for i, (a, b) in enumerate(zip(seq1, seq2)):\n",
    "    print('{0} : {1}, {2}'.format(i, a, b))"
   ]
  },
  {
   "cell_type": "code",
   "execution_count": 19,
   "id": "b6935b3e",
   "metadata": {},
   "outputs": [],
   "source": [
    "# 짝지어진 순차 자료형 다시 풀어내기\n",
    "pitchers = [('Nolan', 'Ryan'), ('Roger', 'Clemens'), ('Schilling', 'Curt')]"
   ]
  },
  {
   "cell_type": "code",
   "execution_count": 20,
   "id": "ec7049e8",
   "metadata": {},
   "outputs": [],
   "source": [
    "first_names, last_names = zip(*pitchers)"
   ]
  },
  {
   "cell_type": "code",
   "execution_count": 21,
   "id": "97e2d5ce",
   "metadata": {},
   "outputs": [
    {
     "data": {
      "text/plain": [
       "('Nolan', 'Roger', 'Schilling')"
      ]
     },
     "execution_count": 21,
     "metadata": {},
     "output_type": "execute_result"
    }
   ],
   "source": [
    "first_namesnames"
   ]
  },
  {
   "cell_type": "code",
   "execution_count": 22,
   "id": "4c3d5758",
   "metadata": {},
   "outputs": [
    {
     "data": {
      "text/plain": [
       "('Ryan', 'Clemens', 'Curt')"
      ]
     },
     "execution_count": 22,
     "metadata": {},
     "output_type": "execute_result"
    }
   ],
   "source": [
    "last_names"
   ]
  },
  {
   "cell_type": "markdown",
   "id": "1d6377fa",
   "metadata": {},
   "source": [
    "- reversed (순차 자료형 역순 순회)"
   ]
  },
  {
   "cell_type": "code",
   "execution_count": 33,
   "id": "b5c9d4bc",
   "metadata": {},
   "outputs": [
    {
     "data": {
      "text/plain": [
       "[9, 8, 7, 6, 5, 4, 3, 2, 1, 0]"
      ]
     },
     "execution_count": 33,
     "metadata": {},
     "output_type": "execute_result"
    }
   ],
   "source": [
    "list(reversed(range(10)))"
   ]
  },
  {
   "cell_type": "markdown",
   "id": "38eea6e6",
   "metadata": {},
   "source": [
    "### 4) dict(사전)"
   ]
  },
  {
   "cell_type": "code",
   "execution_count": 34,
   "id": "2ab37723",
   "metadata": {},
   "outputs": [],
   "source": [
    "empty_dict={}"
   ]
  },
  {
   "cell_type": "code",
   "execution_count": 35,
   "id": "776666ab",
   "metadata": {},
   "outputs": [],
   "source": [
    "d1={'a':'some value', 'b':[1,2,3,4]}"
   ]
  },
  {
   "cell_type": "code",
   "execution_count": 36,
   "id": "7ffc587a",
   "metadata": {},
   "outputs": [
    {
     "data": {
      "text/plain": [
       "{'a': 'some value', 'b': [1, 2, 3, 4]}"
      ]
     },
     "execution_count": 36,
     "metadata": {},
     "output_type": "execute_result"
    }
   ],
   "source": [
    "d1"
   ]
  },
  {
   "cell_type": "code",
   "execution_count": 37,
   "id": "ba6bc04a",
   "metadata": {},
   "outputs": [],
   "source": [
    "d1[7] = 'an integer'"
   ]
  },
  {
   "cell_type": "code",
   "execution_count": 38,
   "id": "f5be3e90",
   "metadata": {},
   "outputs": [
    {
     "data": {
      "text/plain": [
       "{'a': 'some value', 'b': [1, 2, 3, 4], 7: 'an integer'}"
      ]
     },
     "execution_count": 38,
     "metadata": {},
     "output_type": "execute_result"
    }
   ],
   "source": [
    "d1"
   ]
  },
  {
   "cell_type": "code",
   "execution_count": 39,
   "id": "0e674257",
   "metadata": {},
   "outputs": [
    {
     "data": {
      "text/plain": [
       "[1, 2, 3, 4]"
      ]
     },
     "execution_count": 39,
     "metadata": {},
     "output_type": "execute_result"
    }
   ],
   "source": [
    "d1['b']"
   ]
  },
  {
   "cell_type": "code",
   "execution_count": 40,
   "id": "2679da5e",
   "metadata": {},
   "outputs": [
    {
     "data": {
      "text/plain": [
       "True"
      ]
     },
     "execution_count": 40,
     "metadata": {},
     "output_type": "execute_result"
    }
   ],
   "source": [
    "'b' in d1"
   ]
  },
  {
   "cell_type": "code",
   "execution_count": 44,
   "id": "d900f669",
   "metadata": {},
   "outputs": [],
   "source": [
    "d1[5] = 'some value'"
   ]
  },
  {
   "cell_type": "code",
   "execution_count": 45,
   "id": "fc589ae9",
   "metadata": {},
   "outputs": [
    {
     "data": {
      "text/plain": [
       "{'a': 'some value', 'b': [1, 2, 3, 4], 7: 'an integer', 5: 'some value'}"
      ]
     },
     "execution_count": 45,
     "metadata": {},
     "output_type": "execute_result"
    }
   ],
   "source": [
    "d1"
   ]
  },
  {
   "cell_type": "code",
   "execution_count": 46,
   "id": "0a899ec0",
   "metadata": {},
   "outputs": [],
   "source": [
    "d1['dummy'] = 'another value'"
   ]
  },
  {
   "cell_type": "code",
   "execution_count": 47,
   "id": "85014eae",
   "metadata": {},
   "outputs": [
    {
     "data": {
      "text/plain": [
       "{'a': 'some value',\n",
       " 'b': [1, 2, 3, 4],\n",
       " 7: 'an integer',\n",
       " 5: 'some value',\n",
       " 'dummy': 'another value'}"
      ]
     },
     "execution_count": 47,
     "metadata": {},
     "output_type": "execute_result"
    }
   ],
   "source": [
    "d1"
   ]
  },
  {
   "cell_type": "code",
   "execution_count": 48,
   "id": "fedec07f",
   "metadata": {},
   "outputs": [],
   "source": [
    "del d1[5]"
   ]
  },
  {
   "cell_type": "code",
   "execution_count": 49,
   "id": "e137657a",
   "metadata": {},
   "outputs": [
    {
     "data": {
      "text/plain": [
       "{'a': 'some value',\n",
       " 'b': [1, 2, 3, 4],\n",
       " 7: 'an integer',\n",
       " 'dummy': 'another value'}"
      ]
     },
     "execution_count": 49,
     "metadata": {},
     "output_type": "execute_result"
    }
   ],
   "source": [
    "d1"
   ]
  },
  {
   "cell_type": "code",
   "execution_count": 50,
   "id": "e52cfa5b",
   "metadata": {},
   "outputs": [],
   "source": [
    "ret = d1.pop('dummy')"
   ]
  },
  {
   "cell_type": "code",
   "execution_count": 51,
   "id": "2138c62b",
   "metadata": {},
   "outputs": [
    {
     "data": {
      "text/plain": [
       "'another value'"
      ]
     },
     "execution_count": 51,
     "metadata": {},
     "output_type": "execute_result"
    }
   ],
   "source": [
    "ret"
   ]
  },
  {
   "cell_type": "code",
   "execution_count": 52,
   "id": "a08e1f88",
   "metadata": {},
   "outputs": [
    {
     "data": {
      "text/plain": [
       "{'a': 'some value', 'b': [1, 2, 3, 4], 7: 'an integer'}"
      ]
     },
     "execution_count": 52,
     "metadata": {},
     "output_type": "execute_result"
    }
   ],
   "source": [
    "d1"
   ]
  },
  {
   "cell_type": "code",
   "execution_count": 54,
   "id": "1f7fe117",
   "metadata": {},
   "outputs": [
    {
     "data": {
      "text/plain": [
       "['a', 'b', 7]"
      ]
     },
     "execution_count": 54,
     "metadata": {},
     "output_type": "execute_result"
    }
   ],
   "source": [
    "list(d1.keys())"
   ]
  },
  {
   "cell_type": "code",
   "execution_count": 55,
   "id": "80c9647d",
   "metadata": {},
   "outputs": [
    {
     "data": {
      "text/plain": [
       "['some value', [1, 2, 3, 4], 'an integer']"
      ]
     },
     "execution_count": 55,
     "metadata": {},
     "output_type": "execute_result"
    }
   ],
   "source": [
    "list(d1.values())"
   ]
  },
  {
   "cell_type": "markdown",
   "id": "4778f0aa",
   "metadata": {},
   "source": [
    "- update(하나의 사전을 다른  사전과 합침)"
   ]
  },
  {
   "cell_type": "code",
   "execution_count": 56,
   "id": "de03a33e",
   "metadata": {},
   "outputs": [],
   "source": [
    "d1.update({'b':'foo', 'c':12})"
   ]
  },
  {
   "cell_type": "code",
   "execution_count": 57,
   "id": "45512eb6",
   "metadata": {},
   "outputs": [
    {
     "data": {
      "text/plain": [
       "{'a': 'some value', 'b': 'foo', 7: 'an integer', 'c': 12}"
      ]
     },
     "execution_count": 57,
     "metadata": {},
     "output_type": "execute_result"
    }
   ],
   "source": [
    "d1"
   ]
  },
  {
   "cell_type": "markdown",
   "id": "1c9929d8",
   "metadata": {},
   "source": [
    "- 두개의 순차 자료형의 각 원소를 짝지어 사전으로 만들기"
   ]
  },
  {
   "cell_type": "code",
   "execution_count": 58,
   "id": "2daa9660",
   "metadata": {},
   "outputs": [],
   "source": [
    "mapping = dict(zip(range(5), reversed(range(5))))"
   ]
  },
  {
   "cell_type": "code",
   "execution_count": 59,
   "id": "208e50b3",
   "metadata": {},
   "outputs": [
    {
     "data": {
      "text/plain": [
       "{0: 4, 1: 3, 2: 2, 3: 1, 4: 0}"
      ]
     },
     "execution_count": 59,
     "metadata": {},
     "output_type": "execute_result"
    }
   ],
   "source": [
    "mapping"
   ]
  },
  {
   "cell_type": "markdown",
   "id": "258b938b",
   "metadata": {},
   "source": [
    "- collections모듈의 defaultdict : 사전에 지정된 키가 없는 경우 기본값 생성하는 함수를 넘겨 사전 생성  \n",
    " (by_letter = defaultdict(list) : 키의 값이 없다면 그 키에 해당하는 값을 빈 리스트로 초기화)"
   ]
  },
  {
   "cell_type": "markdown",
   "id": "c30153a9",
   "metadata": {},
   "source": [
    "- 사전의 값은 어떤 객체라도 상관x, 키는 스칼라형이나 튜플처럼 값이 바뀌지 않는 객체만 가능"
   ]
  },
  {
   "cell_type": "markdown",
   "id": "27cf5db1",
   "metadata": {},
   "source": [
    "### 5) 집합\n",
    "집합(set)은 유일한 원소만 담는 정렬되지 않은 자료형(즉, 순서가 없어 인덱싱 불가)."
   ]
  },
  {
   "cell_type": "code",
   "execution_count": 60,
   "id": "f781ea53",
   "metadata": {},
   "outputs": [
    {
     "data": {
      "text/plain": [
       "{1, 2, 3}"
      ]
     },
     "execution_count": 60,
     "metadata": {},
     "output_type": "execute_result"
    }
   ],
   "source": [
    "set([2,2,2,1,3,3,])"
   ]
  },
  {
   "cell_type": "code",
   "execution_count": 61,
   "id": "fbf77da9",
   "metadata": {},
   "outputs": [
    {
     "data": {
      "text/plain": [
       "{1, 2, 3}"
      ]
     },
     "execution_count": 61,
     "metadata": {},
     "output_type": "execute_result"
    }
   ],
   "source": [
    "{2,2,2,1,3,3}"
   ]
  },
  {
   "cell_type": "markdown",
   "id": "13460ed1",
   "metadata": {},
   "source": [
    "집합은 합집합, 차집합과 같은 산술 집합 연산 제공"
   ]
  },
  {
   "cell_type": "code",
   "execution_count": 62,
   "id": "42fd237b",
   "metadata": {},
   "outputs": [],
   "source": [
    "a={1,2,3,4,5}\n",
    "b={3,4,5,6,7,8}"
   ]
  },
  {
   "cell_type": "code",
   "execution_count": 63,
   "id": "cb76da96",
   "metadata": {},
   "outputs": [
    {
     "data": {
      "text/plain": [
       "{1, 2, 3, 4, 5, 6, 7, 8}"
      ]
     },
     "execution_count": 63,
     "metadata": {},
     "output_type": "execute_result"
    }
   ],
   "source": [
    "a.union(b) #합집합"
   ]
  },
  {
   "cell_type": "code",
   "execution_count": 64,
   "id": "58eea0a9",
   "metadata": {},
   "outputs": [
    {
     "data": {
      "text/plain": [
       "{1, 2, 3, 4, 5, 6, 7, 8}"
      ]
     },
     "execution_count": 64,
     "metadata": {},
     "output_type": "execute_result"
    }
   ],
   "source": [
    "a | b #합집합"
   ]
  },
  {
   "cell_type": "code",
   "execution_count": 66,
   "id": "3dfb534a",
   "metadata": {},
   "outputs": [
    {
     "data": {
      "text/plain": [
       "{3, 4, 5}"
      ]
     },
     "execution_count": 66,
     "metadata": {},
     "output_type": "execute_result"
    }
   ],
   "source": [
    "a.intersection(b) #교집합"
   ]
  },
  {
   "cell_type": "code",
   "execution_count": 67,
   "id": "556e67fb",
   "metadata": {},
   "outputs": [
    {
     "data": {
      "text/plain": [
       "{3, 4, 5}"
      ]
     },
     "execution_count": 67,
     "metadata": {},
     "output_type": "execute_result"
    }
   ],
   "source": [
    "a & b"
   ]
  },
  {
   "cell_type": "markdown",
   "id": "f2451375",
   "metadata": {},
   "source": [
    "집합 원소들도 일반적으로 변경이 불가능"
   ]
  },
  {
   "cell_type": "code",
   "execution_count": 68,
   "id": "d6d1daf0",
   "metadata": {},
   "outputs": [],
   "source": [
    "#리스트 같은 원소를 담기 위해서는 튜플로 변경해야 함\n",
    "my_data = [1,2,3,4]"
   ]
  },
  {
   "cell_type": "code",
   "execution_count": 69,
   "id": "d578767f",
   "metadata": {},
   "outputs": [],
   "source": [
    "my_set = {tuple(my_data)}"
   ]
  },
  {
   "cell_type": "code",
   "execution_count": 70,
   "id": "27d3c3ef",
   "metadata": {},
   "outputs": [
    {
     "data": {
      "text/plain": [
       "{(1, 2, 3, 4)}"
      ]
     },
     "execution_count": 70,
     "metadata": {},
     "output_type": "execute_result"
    }
   ],
   "source": [
    "my_set"
   ]
  },
  {
   "cell_type": "code",
   "execution_count": 71,
   "id": "9a472f0f",
   "metadata": {},
   "outputs": [],
   "source": [
    "# 부분집합인지 확대집합인지 확인\n",
    "a_set = {1,2,3,4,5}"
   ]
  },
  {
   "cell_type": "code",
   "execution_count": 72,
   "id": "5ce7cc9f",
   "metadata": {},
   "outputs": [
    {
     "data": {
      "text/plain": [
       "True"
      ]
     },
     "execution_count": 72,
     "metadata": {},
     "output_type": "execute_result"
    }
   ],
   "source": [
    "{1,2,3}.issubset(a_set)"
   ]
  },
  {
   "cell_type": "code",
   "execution_count": 73,
   "id": "29195bcd",
   "metadata": {},
   "outputs": [
    {
     "data": {
      "text/plain": [
       "True"
      ]
     },
     "execution_count": 73,
     "metadata": {},
     "output_type": "execute_result"
    }
   ],
   "source": [
    "a_set.issuperset({1,2,3})"
   ]
  },
  {
   "cell_type": "code",
   "execution_count": 74,
   "id": "b039c816",
   "metadata": {},
   "outputs": [
    {
     "data": {
      "text/plain": [
       "True"
      ]
     },
     "execution_count": 74,
     "metadata": {},
     "output_type": "execute_result"
    }
   ],
   "source": [
    "{1,2,3} == {3,2,1}"
   ]
  },
  {
   "cell_type": "markdown",
   "id": "768c9a19",
   "metadata": {},
   "source": [
    "### 6) 리스트 표기법\n",
    "간결한 표현으로 새로운 리스트 만들기"
   ]
  },
  {
   "cell_type": "markdown",
   "id": "5a39f3c6",
   "metadata": {},
   "source": [
    "- 기본 형식 : [expr for val in collection if condition] (조건문 생략 가능)  \n",
    "반복문으로 구현하면 아래와 같음"
   ]
  },
  {
   "cell_type": "code",
   "execution_count": 77,
   "id": "fd3e0a0f",
   "metadata": {},
   "outputs": [],
   "source": [
    "# result = []\n",
    "# for val in collection:\n",
    "#     if condition:\n",
    "#         result.append(expr)"
   ]
  },
  {
   "cell_type": "code",
   "execution_count": 78,
   "id": "e16848ff",
   "metadata": {},
   "outputs": [],
   "source": [
    "strings = ['a','as','bat','car','dove','python']"
   ]
  },
  {
   "cell_type": "code",
   "execution_count": 79,
   "id": "fbe287e3",
   "metadata": {},
   "outputs": [
    {
     "data": {
      "text/plain": [
       "['BAT', 'CAR', 'DOVE', 'PYTHON']"
      ]
     },
     "execution_count": 79,
     "metadata": {},
     "output_type": "execute_result"
    }
   ],
   "source": [
    "[x.upper() for x in strings if len(x)>2]"
   ]
  },
  {
   "cell_type": "markdown",
   "id": "8fa3b5f5",
   "metadata": {},
   "source": [
    "- 사전 표기법 : {key-expr : value-expr for value in collection if condition}  \n",
    "- 집합 표기법 : 대괄호 대신 중괄호를 쓴다는 것 빼면 리스트 표기법과 동일"
   ]
  },
  {
   "cell_type": "code",
   "execution_count": 80,
   "id": "447f48f9",
   "metadata": {},
   "outputs": [],
   "source": [
    "unique_lengths = {len(x) for x in strings}"
   ]
  },
  {
   "cell_type": "code",
   "execution_count": 81,
   "id": "5f39358a",
   "metadata": {},
   "outputs": [
    {
     "data": {
      "text/plain": [
       "{1, 2, 3, 4, 6}"
      ]
     },
     "execution_count": 81,
     "metadata": {},
     "output_type": "execute_result"
    }
   ],
   "source": [
    "unique_lengths"
   ]
  },
  {
   "cell_type": "code",
   "execution_count": 85,
   "id": "71179e23",
   "metadata": {},
   "outputs": [
    {
     "data": {
      "text/plain": [
       "{1, 2, 3, 4, 6}"
      ]
     },
     "execution_count": 85,
     "metadata": {},
     "output_type": "execute_result"
    }
   ],
   "source": [
    "# map함수(두 번째 인자인 반복 가능한 자료형을 첫 번째 인자인 함수에 하나씩 집어넣어서 함수를 수행) 를 사용할 수도 있음\n",
    "set(map(len, strings))"
   ]
  },
  {
   "cell_type": "code",
   "execution_count": 86,
   "id": "83ac80ef",
   "metadata": {},
   "outputs": [],
   "source": [
    "loc_mapping = {val : index for index, val in enumerate(strings)}"
   ]
  },
  {
   "cell_type": "code",
   "execution_count": 87,
   "id": "9e4692ec",
   "metadata": {},
   "outputs": [
    {
     "data": {
      "text/plain": [
       "{'a': 0, 'as': 1, 'bat': 2, 'car': 3, 'dove': 4, 'python': 5}"
      ]
     },
     "execution_count": 87,
     "metadata": {},
     "output_type": "execute_result"
    }
   ],
   "source": [
    "loc_mapping"
   ]
  },
  {
   "cell_type": "markdown",
   "id": "5b794a77",
   "metadata": {},
   "source": [
    "- 중첩된 리스트 표기법"
   ]
  },
  {
   "cell_type": "code",
   "execution_count": 88,
   "id": "beda8989",
   "metadata": {},
   "outputs": [],
   "source": [
    "all_data = [['John', 'Emily', 'Michael', 'Mary', 'Steven'], ['Maria', 'Juan', 'Javier', 'Natalia', 'Pilar']]"
   ]
  },
  {
   "cell_type": "code",
   "execution_count": 89,
   "id": "38f1c3cc",
   "metadata": {},
   "outputs": [],
   "source": [
    "# 각 이름에서 알파벳 e가 2개 이상 포함된 이름의 목록\n",
    "result = [name for names in all_data for name in names if name.count('e') >= 2] # for 부분은 중첩의 순서에 따라 나열, 필터는 끝에 위치"
   ]
  },
  {
   "cell_type": "code",
   "execution_count": 90,
   "id": "7ccf572b",
   "metadata": {},
   "outputs": [
    {
     "data": {
      "text/plain": [
       "['Steven']"
      ]
     },
     "execution_count": 90,
     "metadata": {},
     "output_type": "execute_result"
    }
   ],
   "source": [
    "result"
   ]
  },
  {
   "cell_type": "code",
   "execution_count": 91,
   "id": "a8945e58",
   "metadata": {},
   "outputs": [],
   "source": [
    "some_tuples = [(1,2,3),(4,5,6),(7,8,9)]"
   ]
  },
  {
   "cell_type": "code",
   "execution_count": 92,
   "id": "ba279c55",
   "metadata": {},
   "outputs": [],
   "source": [
    "flattened = [x for tup in some_tuples for x in tup]"
   ]
  },
  {
   "cell_type": "code",
   "execution_count": 93,
   "id": "4447ce53",
   "metadata": {},
   "outputs": [
    {
     "data": {
      "text/plain": [
       "[1, 2, 3, 4, 5, 6, 7, 8, 9]"
      ]
     },
     "execution_count": 93,
     "metadata": {},
     "output_type": "execute_result"
    }
   ],
   "source": [
    "flattened"
   ]
  },
  {
   "cell_type": "code",
   "execution_count": 94,
   "id": "635a586b",
   "metadata": {},
   "outputs": [
    {
     "data": {
      "text/plain": [
       "[[1, 2, 3], [4, 5, 6], [7, 8, 9]]"
      ]
     },
     "execution_count": 94,
     "metadata": {},
     "output_type": "execute_result"
    }
   ],
   "source": [
    "[[x for x in tup] for tup in some_tuples]"
   ]
  },
  {
   "cell_type": "markdown",
   "id": "0157b073",
   "metadata": {},
   "source": [
    "### 7) 함수\n",
    "- 함수 블록이 끝날 때까지 return문이 없다면 None이 자동으로 반환됨"
   ]
  },
  {
   "cell_type": "markdown",
   "id": "fce66277",
   "metadata": {},
   "source": [
    "- 여러 개의 값 반환 가능"
   ]
  },
  {
   "cell_type": "code",
   "execution_count": 1,
   "id": "c3d997dd",
   "metadata": {},
   "outputs": [],
   "source": [
    "def f():\n",
    "    a=5\n",
    "    b=6\n",
    "    c=7\n",
    "    return a,b,c"
   ]
  },
  {
   "cell_type": "code",
   "execution_count": 2,
   "id": "81f87994",
   "metadata": {},
   "outputs": [],
   "source": [
    "a,b,c=f()"
   ]
  },
  {
   "cell_type": "code",
   "execution_count": 3,
   "id": "595ea4a7",
   "metadata": {},
   "outputs": [],
   "source": [
    "def f():\n",
    "    a=5\n",
    "    b=6\n",
    "    c=7\n",
    "    return {'a':a, 'b':b, 'c':c}"
   ]
  },
  {
   "cell_type": "markdown",
   "id": "24c1df9a",
   "metadata": {},
   "source": [
    "- 순차적 자료형에 대해 함수를 적용하는 내장 함수인 map 함수를 이용해서 함수를 인자로 사용 가능"
   ]
  },
  {
   "cell_type": "code",
   "execution_count": 4,
   "id": "ccf3df5d",
   "metadata": {},
   "outputs": [],
   "source": [
    "# for x in map(function, list):\n",
    "#     print(x)"
   ]
  },
  {
   "cell_type": "markdown",
   "id": "401a55ee",
   "metadata": {},
   "source": [
    "- 람다(익명) 함수"
   ]
  },
  {
   "cell_type": "code",
   "execution_count": 5,
   "id": "5424c897",
   "metadata": {},
   "outputs": [],
   "source": [
    "# def short_function(x):\n",
    "#     return x *2\n",
    "\n",
    "equiv_anon = lambda x:x*2"
   ]
  },
  {
   "cell_type": "code",
   "execution_count": 6,
   "id": "3f6f9573",
   "metadata": {},
   "outputs": [],
   "source": [
    "# 각 문자열에서 다양한 문자가 포함된 순서로 정렬하기\n",
    "strings= [ 'foo','card','bar','aaaa','abab']"
   ]
  },
  {
   "cell_type": "code",
   "execution_count": 7,
   "id": "234d498f",
   "metadata": {},
   "outputs": [],
   "source": [
    "strings.sort(key=lambda x: len(set(list(x))))"
   ]
  },
  {
   "cell_type": "code",
   "execution_count": 8,
   "id": "55a153eb",
   "metadata": {},
   "outputs": [
    {
     "data": {
      "text/plain": [
       "['aaaa', 'foo', 'abab', 'bar', 'card']"
      ]
     },
     "execution_count": 8,
     "metadata": {},
     "output_type": "execute_result"
    }
   ],
   "source": [
    "strings"
   ]
  },
  {
   "cell_type": "code",
   "execution_count": 10,
   "id": "7528f5f9",
   "metadata": {},
   "outputs": [
    {
     "data": {
      "text/plain": [
       "18"
      ]
     },
     "execution_count": 10,
     "metadata": {},
     "output_type": "execute_result"
    }
   ],
   "source": [
    "equiv_anon(9)"
   ]
  },
  {
   "cell_type": "markdown",
   "id": "3a5e4ab1",
   "metadata": {},
   "source": [
    "- 커링 :함수에서 일부 인자만 취하는 새로운 함수를 만드는 기법"
   ]
  },
  {
   "cell_type": "code",
   "execution_count": 11,
   "id": "b372893d",
   "metadata": {},
   "outputs": [],
   "source": [
    "def add_number(x,y):\n",
    "    return x+y"
   ]
  },
  {
   "cell_type": "code",
   "execution_count": 12,
   "id": "5651146e",
   "metadata": {},
   "outputs": [],
   "source": [
    "add_five = lambda y: add_number(5,y)"
   ]
  },
  {
   "cell_type": "code",
   "execution_count": 14,
   "id": "6b7ed4a1",
   "metadata": {},
   "outputs": [],
   "source": [
    "# functools 모듈의 partial 함수를 이용하여 단순화 할 수 있음\n",
    "from functools import partial\n",
    "add_five = partial(add_number, 5)"
   ]
  },
  {
   "cell_type": "markdown",
   "id": "f34f04b5",
   "metadata": {},
   "source": [
    "### 8) 제너레이터\n",
    "- 리스트 내의 객체나 파일의 로우 같은 순차적인 자료를 순회하는 일관적인 방법 제공"
   ]
  },
  {
   "cell_type": "markdown",
   "id": "a0ae9649",
   "metadata": {},
   "source": [
    "- 이터레이터 프로토콜을 이용해 순회 가능한 객체를 만들 수 있음"
   ]
  },
  {
   "cell_type": "code",
   "execution_count": 34,
   "id": "40b6b0b6",
   "metadata": {},
   "outputs": [],
   "source": [
    "some_dict={'a':1, 'b':2, 'c':3}"
   ]
  },
  {
   "cell_type": "code",
   "execution_count": 35,
   "id": "850c6d37",
   "metadata": {},
   "outputs": [
    {
     "name": "stdout",
     "output_type": "stream",
     "text": [
      "a\n",
      "b\n",
      "c\n"
     ]
    }
   ],
   "source": [
    "for key in some_dict: #some_dict에서 이터레이터를 생성\n",
    "    print(key)"
   ]
  },
  {
   "cell_type": "code",
   "execution_count": 36,
   "id": "b914b3d7",
   "metadata": {},
   "outputs": [],
   "source": [
    "dict_iterator = iter(some_dict)"
   ]
  },
  {
   "cell_type": "code",
   "execution_count": 37,
   "id": "7b39f277",
   "metadata": {},
   "outputs": [
    {
     "data": {
      "text/plain": [
       "<dict_keyiterator at 0x21c1bc65360>"
      ]
     },
     "execution_count": 37,
     "metadata": {},
     "output_type": "execute_result"
    }
   ],
   "source": [
    "dict_iterator"
   ]
  },
  {
   "cell_type": "markdown",
   "id": "74d6a785",
   "metadata": {},
   "source": [
    "- 이터레이터는 for문 같은 컨텍스트에서 사용될 경우 객체를 반환  \n",
    "- 리스트나 리스트와 유사한 객체를 취하는 대부분의 메서드는 순회 가능한 객체도 허용(min, max, sum 혹은 list, tuple 같은 자료구조 생성 메소드)"
   ]
  },
  {
   "cell_type": "code",
   "execution_count": 38,
   "id": "d0c326bd",
   "metadata": {},
   "outputs": [
    {
     "data": {
      "text/plain": [
       "['a', 'b', 'c']"
      ]
     },
     "execution_count": 38,
     "metadata": {},
     "output_type": "execute_result"
    }
   ],
   "source": [
    "list(dict_iterator)"
   ]
  },
  {
   "cell_type": "markdown",
   "id": "88ae487b",
   "metadata": {},
   "source": [
    "- 제너레이터는 순회 가능한 객체를 생성하는 간단한 방법  \n",
    "- 일반 함수 : 단일 값 반환 / 제너레이터 : 순차적인 값을 매 요청 시마다 하나씩 반환(함수에서 return 대신 yield 사용)  "
   ]
  },
  {
   "cell_type": "code",
   "execution_count": 45,
   "id": "8c02d627",
   "metadata": {},
   "outputs": [],
   "source": [
    "def squares(n=10):\n",
    "    print('Generating squares from 1 to {0}'.format(n**2))\n",
    "    for i in range(1, n+1):\n",
    "        yield i ** 2"
   ]
  },
  {
   "cell_type": "code",
   "execution_count": 46,
   "id": "7ad1917e",
   "metadata": {},
   "outputs": [],
   "source": [
    "gen = squares()"
   ]
  },
  {
   "cell_type": "code",
   "execution_count": 41,
   "id": "05cfea6f",
   "metadata": {},
   "outputs": [
    {
     "data": {
      "text/plain": [
       "<generator object squares at 0x0000021C1C556F90>"
      ]
     },
     "execution_count": 41,
     "metadata": {},
     "output_type": "execute_result"
    }
   ],
   "source": [
    "gen #제너레이터를 호출하더라도 코드가 즉각적으로 실행되지 않음"
   ]
  },
  {
   "cell_type": "code",
   "execution_count": 47,
   "id": "f1a8c361",
   "metadata": {},
   "outputs": [
    {
     "name": "stdout",
     "output_type": "stream",
     "text": [
      "Generating squares from 1 to 100\n",
      "1 4 9 16 25 36 49 64 81 100 "
     ]
    }
   ],
   "source": [
    "for x in gen:\n",
    "    print(x, end=' ') # 제너레이터로부터 값을 요청하면 그때서야 제너레이터의 코드 실행"
   ]
  },
  {
   "cell_type": "markdown",
   "id": "4ab03801",
   "metadata": {},
   "source": [
    "- 제너레이터 표현식 : 제너레이터를 생성하는 더 간단한 방법으로써 리스트 표현식에서 사용하는 대괄호 대신 괄호를 사용"
   ]
  },
  {
   "cell_type": "code",
   "execution_count": 43,
   "id": "14d72aec",
   "metadata": {},
   "outputs": [],
   "source": [
    "gen = (x ** 2 for x in range(100))"
   ]
  },
  {
   "cell_type": "code",
   "execution_count": 48,
   "id": "78500885",
   "metadata": {},
   "outputs": [],
   "source": [
    "# 위와 동일한 코드\n",
    "def _make_gen():\n",
    "    for x in range(100):\n",
    "        yield x ** 2\n",
    "\n",
    "gen = _make_gen()"
   ]
  },
  {
   "cell_type": "markdown",
   "id": "3acd183a",
   "metadata": {},
   "source": [
    "- 제너레이터 표현식은 리스트 표현식을 인자로 받는 어떤 파이썬 함수에서도 사용 가능"
   ]
  },
  {
   "cell_type": "code",
   "execution_count": 49,
   "id": "c6859ee7",
   "metadata": {},
   "outputs": [
    {
     "data": {
      "text/plain": [
       "328350"
      ]
     },
     "execution_count": 49,
     "metadata": {},
     "output_type": "execute_result"
    }
   ],
   "source": [
    "sum(x ** 2 for x in range(100))"
   ]
  },
  {
   "cell_type": "code",
   "execution_count": 50,
   "id": "e29adae3",
   "metadata": {},
   "outputs": [
    {
     "data": {
      "text/plain": [
       "{0: 0, 1: 1, 2: 4, 3: 9, 4: 16}"
      ]
     },
     "execution_count": 50,
     "metadata": {},
     "output_type": "execute_result"
    }
   ],
   "source": [
    "dict((i, i**2) for i in range(5))"
   ]
  },
  {
   "cell_type": "markdown",
   "id": "57743cad",
   "metadata": {},
   "source": [
    "### 9) itertools 모듈\n",
    "itertools 모듈은 일반 데이터 알고리즘을 위한 많은 제너레이터 포함"
   ]
  },
  {
   "cell_type": "markdown",
   "id": "31cd9b19",
   "metadata": {},
   "source": [
    "- groupby : 순차 자료구조와 함수를 받아 인자로 받은 함수에서 반환하는 값에 따라 그룹 지음"
   ]
  },
  {
   "cell_type": "code",
   "execution_count": 51,
   "id": "cf15cfcf",
   "metadata": {},
   "outputs": [],
   "source": [
    "import itertools"
   ]
  },
  {
   "cell_type": "code",
   "execution_count": 52,
   "id": "14080430",
   "metadata": {},
   "outputs": [],
   "source": [
    "first_letter = lambda x:x[0]"
   ]
  },
  {
   "cell_type": "code",
   "execution_count": 53,
   "id": "1a4330b2",
   "metadata": {},
   "outputs": [],
   "source": [
    "names = ['Alan', 'Adam', 'Wes', 'Will', 'Albert', 'Steven']"
   ]
  },
  {
   "cell_type": "code",
   "execution_count": 54,
   "id": "bbead758",
   "metadata": {},
   "outputs": [
    {
     "name": "stdout",
     "output_type": "stream",
     "text": [
      "A ['Alan', 'Adam']\n",
      "W ['Wes', 'Will']\n",
      "A ['Albert']\n",
      "S ['Steven']\n"
     ]
    }
   ],
   "source": [
    "for letter, names in itertools.groupby(names, first_letter):\n",
    "    print(letter, list(names)) # names는 제너레이터"
   ]
  },
  {
   "cell_type": "markdown",
   "id": "a65e64e0",
   "metadata": {},
   "source": [
    "### 10) 에러와 예외 처리"
   ]
  },
  {
   "cell_type": "code",
   "execution_count": 56,
   "id": "02ff4f81",
   "metadata": {},
   "outputs": [],
   "source": [
    "def attempt_float(x):\n",
    "    try:\n",
    "        return float(x)\n",
    "    except:\n",
    "        return x"
   ]
  },
  {
   "cell_type": "code",
   "execution_count": 57,
   "id": "116526e1",
   "metadata": {},
   "outputs": [
    {
     "data": {
      "text/plain": [
       "1.2345"
      ]
     },
     "execution_count": 57,
     "metadata": {},
     "output_type": "execute_result"
    }
   ],
   "source": [
    "float('1.2345')"
   ]
  },
  {
   "cell_type": "code",
   "execution_count": 59,
   "id": "82c8d336",
   "metadata": {},
   "outputs": [
    {
     "data": {
      "text/plain": [
       "1.2345"
      ]
     },
     "execution_count": 59,
     "metadata": {},
     "output_type": "execute_result"
    }
   ],
   "source": [
    "attempt_float('1.2345')"
   ]
  },
  {
   "cell_type": "code",
   "execution_count": 60,
   "id": "c6466319",
   "metadata": {},
   "outputs": [
    {
     "data": {
      "text/plain": [
       "'something'"
      ]
     },
     "execution_count": 60,
     "metadata": {},
     "output_type": "execute_result"
    }
   ],
   "source": [
    "attempt_float('something')"
   ]
  },
  {
   "cell_type": "code",
   "execution_count": 66,
   "id": "7144f443",
   "metadata": {},
   "outputs": [],
   "source": [
    "def attempt_float(x):\n",
    "    try:\n",
    "        return float(x)\n",
    "    except ValueError: # 처리하고 싶은 특정한 에러를 적어줄 수 있음\n",
    "        return x"
   ]
  },
  {
   "cell_type": "code",
   "execution_count": 67,
   "id": "0f3b1255",
   "metadata": {},
   "outputs": [
    {
     "ename": "TypeError",
     "evalue": "float() argument must be a string or a number, not 'tuple'",
     "output_type": "error",
     "traceback": [
      "\u001b[1;31m---------------------------------------------------------------------------\u001b[0m",
      "\u001b[1;31mTypeError\u001b[0m                                 Traceback (most recent call last)",
      "\u001b[1;32m~\\AppData\\Local\\Temp/ipykernel_6252/1365843010.py\u001b[0m in \u001b[0;36m<module>\u001b[1;34m\u001b[0m\n\u001b[1;32m----> 1\u001b[1;33m \u001b[0mattempt_float\u001b[0m\u001b[1;33m(\u001b[0m\u001b[1;33m(\u001b[0m\u001b[1;36m1\u001b[0m\u001b[1;33m,\u001b[0m\u001b[1;36m2\u001b[0m\u001b[1;33m)\u001b[0m\u001b[1;33m)\u001b[0m\u001b[1;33m\u001b[0m\u001b[1;33m\u001b[0m\u001b[0m\n\u001b[0m",
      "\u001b[1;32m~\\AppData\\Local\\Temp/ipykernel_6252/1664727809.py\u001b[0m in \u001b[0;36mattempt_float\u001b[1;34m(x)\u001b[0m\n\u001b[0;32m      1\u001b[0m \u001b[1;32mdef\u001b[0m \u001b[0mattempt_float\u001b[0m\u001b[1;33m(\u001b[0m\u001b[0mx\u001b[0m\u001b[1;33m)\u001b[0m\u001b[1;33m:\u001b[0m\u001b[1;33m\u001b[0m\u001b[1;33m\u001b[0m\u001b[0m\n\u001b[0;32m      2\u001b[0m     \u001b[1;32mtry\u001b[0m\u001b[1;33m:\u001b[0m\u001b[1;33m\u001b[0m\u001b[1;33m\u001b[0m\u001b[0m\n\u001b[1;32m----> 3\u001b[1;33m         \u001b[1;32mreturn\u001b[0m \u001b[0mfloat\u001b[0m\u001b[1;33m(\u001b[0m\u001b[0mx\u001b[0m\u001b[1;33m)\u001b[0m\u001b[1;33m\u001b[0m\u001b[1;33m\u001b[0m\u001b[0m\n\u001b[0m\u001b[0;32m      4\u001b[0m     \u001b[1;32mexcept\u001b[0m \u001b[0mValueError\u001b[0m\u001b[1;33m:\u001b[0m \u001b[1;31m# 처리하고 싶은 특정한 에러를 적어줄 수 있음\u001b[0m\u001b[1;33m\u001b[0m\u001b[1;33m\u001b[0m\u001b[0m\n\u001b[0;32m      5\u001b[0m         \u001b[1;32mreturn\u001b[0m \u001b[0mx\u001b[0m\u001b[1;33m\u001b[0m\u001b[1;33m\u001b[0m\u001b[0m\n",
      "\u001b[1;31mTypeError\u001b[0m: float() argument must be a string or a number, not 'tuple'"
     ]
    }
   ],
   "source": [
    "attempt_float((1,2))"
   ]
  },
  {
   "cell_type": "code",
   "execution_count": 63,
   "id": "39248d2f",
   "metadata": {},
   "outputs": [],
   "source": [
    "def attempt_float(x):\n",
    "    try:\n",
    "        return float(x)\n",
    "    except (ValueError, TypeError): # 튜플을 사용해서 여러 개의 예외를 한 번에 처리\n",
    "        return x "
   ]
  },
  {
   "cell_type": "markdown",
   "id": "7c8d8820",
   "metadata": {},
   "source": [
    "- finally : try 블록의 코드가 성공적으로 수행되었는지 여부와 관계없이 실행  \n",
    "- else : try 블록이 성공적으로 수행되었을 때만 수행"
   ]
  },
  {
   "cell_type": "markdown",
   "id": "7eeab7fd",
   "metadata": {},
   "source": [
    "### 11) 파일과 운영체제"
   ]
  },
  {
   "cell_type": "markdown",
   "id": "3235769c",
   "metadata": {},
   "source": [
    "- open : 파일을 읽고 쓰기 위해 열때 사용"
   ]
  },
  {
   "cell_type": "code",
   "execution_count": 68,
   "id": "6e022abd",
   "metadata": {},
   "outputs": [
    {
     "ename": "FileNotFoundError",
     "evalue": "[Errno 2] No such file or directory: 'examples/segismundo.txt'",
     "output_type": "error",
     "traceback": [
      "\u001b[1;31m---------------------------------------------------------------------------\u001b[0m",
      "\u001b[1;31mFileNotFoundError\u001b[0m                         Traceback (most recent call last)",
      "\u001b[1;32m~\\AppData\\Local\\Temp/ipykernel_6252/3496356891.py\u001b[0m in \u001b[0;36m<module>\u001b[1;34m\u001b[0m\n\u001b[0;32m      1\u001b[0m \u001b[0mpath\u001b[0m \u001b[1;33m=\u001b[0m \u001b[1;34m'examples/segismundo.txt'\u001b[0m\u001b[1;33m\u001b[0m\u001b[1;33m\u001b[0m\u001b[0m\n\u001b[1;32m----> 2\u001b[1;33m \u001b[0mf\u001b[0m\u001b[1;33m=\u001b[0m\u001b[0mopen\u001b[0m\u001b[1;33m(\u001b[0m\u001b[0mpath\u001b[0m\u001b[1;33m)\u001b[0m\u001b[1;33m\u001b[0m\u001b[1;33m\u001b[0m\u001b[0m\n\u001b[0m",
      "\u001b[1;31mFileNotFoundError\u001b[0m: [Errno 2] No such file or directory: 'examples/segismundo.txt'"
     ]
    }
   ],
   "source": [
    "path = 'examples/segismundo.txt'\n",
    "f=open(path)"
   ]
  },
  {
   "cell_type": "markdown",
   "id": "75b79581",
   "metadata": {},
   "source": [
    "- 기본적으로 파일은 읽기 전용 모드인 'r'로 열림  \n",
    "- 파일 핸들 f를 리스트로 생각할 수 있으며 파일의 매 줄을 순회할 수 있음"
   ]
  },
  {
   "cell_type": "code",
   "execution_count": 69,
   "id": "2878e5f3",
   "metadata": {},
   "outputs": [
    {
     "ename": "NameError",
     "evalue": "name 'f' is not defined",
     "output_type": "error",
     "traceback": [
      "\u001b[1;31m---------------------------------------------------------------------------\u001b[0m",
      "\u001b[1;31mNameError\u001b[0m                                 Traceback (most recent call last)",
      "\u001b[1;32m~\\AppData\\Local\\Temp/ipykernel_6252/458518650.py\u001b[0m in \u001b[0;36m<module>\u001b[1;34m\u001b[0m\n\u001b[1;32m----> 1\u001b[1;33m \u001b[1;32mfor\u001b[0m \u001b[0mline\u001b[0m \u001b[1;32min\u001b[0m \u001b[0mf\u001b[0m\u001b[1;33m:\u001b[0m\u001b[1;33m\u001b[0m\u001b[1;33m\u001b[0m\u001b[0m\n\u001b[0m\u001b[0;32m      2\u001b[0m     \u001b[1;32mpass\u001b[0m\u001b[1;33m\u001b[0m\u001b[1;33m\u001b[0m\u001b[0m\n",
      "\u001b[1;31mNameError\u001b[0m: name 'f' is not defined"
     ]
    }
   ],
   "source": [
    "for line in f:\n",
    "    pass"
   ]
  },
  {
   "cell_type": "code",
   "execution_count": null,
   "id": "b575f023",
   "metadata": {},
   "outputs": [],
   "source": [
    "# 파일에서 읽은 줄은 end-of-line 문자가 그대로 남아 있으므로 이를 제거\n",
    "lines = [x.rstrip() for x in range(path)] #rstrip()은 오른쪽 공백제거"
   ]
  },
  {
   "cell_type": "markdown",
   "id": "6eef3c43",
   "metadata": {},
   "source": [
    "- 작업이 끝난 후 명시적으로 닫아주어야 함(파일을 닫으면 해당 자원을 운영체제로 되돌려줌)"
   ]
  },
  {
   "cell_type": "code",
   "execution_count": null,
   "id": "d2430355",
   "metadata": {},
   "outputs": [],
   "source": [
    "f.close()"
   ]
  },
  {
   "cell_type": "code",
   "execution_count": null,
   "id": "321b22d4",
   "metadata": {},
   "outputs": [],
   "source": [
    "# with를 사용하면 with 블록이 끝나는 시점에 파일 핸들 f를 자동으로 닫아줌\n",
    "with open(path) as f:\n",
    "    lines = [x.rstrip() for x in f]"
   ]
  },
  {
   "cell_type": "code",
   "execution_count": 70,
   "id": "5d72986b",
   "metadata": {},
   "outputs": [
    {
     "ename": "FileNotFoundError",
     "evalue": "[Errno 2] No such file or directory: 'examples/segismundo.txt'",
     "output_type": "error",
     "traceback": [
      "\u001b[1;31m---------------------------------------------------------------------------\u001b[0m",
      "\u001b[1;31mFileNotFoundError\u001b[0m                         Traceback (most recent call last)",
      "\u001b[1;32m~\\AppData\\Local\\Temp/ipykernel_6252/1391535646.py\u001b[0m in \u001b[0;36m<module>\u001b[1;34m\u001b[0m\n\u001b[1;32m----> 1\u001b[1;33m \u001b[0mf\u001b[0m \u001b[1;33m=\u001b[0m \u001b[0mopen\u001b[0m\u001b[1;33m(\u001b[0m\u001b[0mpath\u001b[0m\u001b[1;33m,\u001b[0m \u001b[1;34m'w'\u001b[0m\u001b[1;33m)\u001b[0m \u001b[1;31m# 파일이 새롭게 생성되고 파일의 내용을 새로운 내용으로 덮어씀\u001b[0m\u001b[1;33m\u001b[0m\u001b[1;33m\u001b[0m\u001b[0m\n\u001b[0m",
      "\u001b[1;31mFileNotFoundError\u001b[0m: [Errno 2] No such file or directory: 'examples/segismundo.txt'"
     ]
    }
   ],
   "source": [
    "f = open(path, 'w') # 파일이 새롭게 생성되고 파일의 내용을 새로운 내용으로 덮어씀"
   ]
  },
  {
   "cell_type": "markdown",
   "id": "6069a4e9",
   "metadata": {},
   "source": [
    "- 파일 읽을 때는 read, seek, tell 메서드를 주로 사용  \n",
    "- read : 해당 파일에서 특정 개수만큼의 문자 반환(읽은 바이트만큼 파일 핸들의 위치를 옮김)    \n",
    "- tell : 현재 위치를 알려줌  \n",
    "- seek : 파일 핸들의 위치를 해당 파일에서 지정한 바이트 위치로 옮김  \n",
    "- write 또는 writelines : 파일에 텍스트 기록"
   ]
  }
 ],
 "metadata": {
  "kernelspec": {
   "display_name": "Python 3 (ipykernel)",
   "language": "python",
   "name": "python3"
  },
  "language_info": {
   "codemirror_mode": {
    "name": "ipython",
    "version": 3
   },
   "file_extension": ".py",
   "mimetype": "text/x-python",
   "name": "python",
   "nbconvert_exporter": "python",
   "pygments_lexer": "ipython3",
   "version": "3.9.7"
  }
 },
 "nbformat": 4,
 "nbformat_minor": 5
}
