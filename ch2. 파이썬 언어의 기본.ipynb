{
 "cells": [
  {
   "cell_type": "markdown",
   "id": "0398d350",
   "metadata": {},
   "source": [
    "# isinstance 함수"
   ]
  },
  {
   "cell_type": "code",
   "execution_count": 1,
   "id": "bf887ae5",
   "metadata": {},
   "outputs": [
    {
     "data": {
      "text/plain": [
       "True"
      ]
     },
     "execution_count": 1,
     "metadata": {},
     "output_type": "execute_result"
    }
   ],
   "source": [
    "a=5\n",
    "isinstance(a, int)"
   ]
  },
  {
   "cell_type": "code",
   "execution_count": 2,
   "id": "b082019c",
   "metadata": {},
   "outputs": [
    {
     "data": {
      "text/plain": [
       "True"
      ]
     },
     "execution_count": 2,
     "metadata": {},
     "output_type": "execute_result"
    }
   ],
   "source": [
    "b=4.5\n",
    "isinstance(a, (int, float))"
   ]
  },
  {
   "cell_type": "markdown",
   "id": "7f835d1a",
   "metadata": {},
   "source": [
    "# 모듈 임포트"
   ]
  },
  {
   "cell_type": "code",
   "execution_count": null,
   "id": "a5ae0689",
   "metadata": {},
   "outputs": [],
   "source": [
    "# some_module.py\n",
    "PI=3.14159\n",
    "\n",
    "def f(x):\n",
    "    return x + 2\n",
    "\n",
    "def g(a,b):\n",
    "    return a + b"
   ]
  },
  {
   "cell_type": "code",
   "execution_count": null,
   "id": "8e7c3a5a",
   "metadata": {},
   "outputs": [],
   "source": [
    "import some_module\n",
    "from some_module import f, g, PI\n",
    "from some_module import PI as pi, g as gf"
   ]
  },
  {
   "cell_type": "markdown",
   "id": "6610e1c3",
   "metadata": {},
   "source": [
    "# ==와 is\n",
    "\n",
    "a == b : a와 b가 같은 경우 True  \n",
    "a is b : a와 b가 같은 파이썬 객체를 참조할 경우 True  \n",
    "a is not b : a와 b가 다른 파이썬 객체를 참조할 경우 True"
   ]
  },
  {
   "cell_type": "markdown",
   "id": "c5720592",
   "metadata": {},
   "source": [
    "# 문자열"
   ]
  },
  {
   "cell_type": "markdown",
   "id": "9d3af882",
   "metadata": {},
   "source": [
    "### 이스케이프 문자"
   ]
  },
  {
   "cell_type": "code",
   "execution_count": 5,
   "id": "c3a15328",
   "metadata": {},
   "outputs": [
    {
     "name": "stdout",
     "output_type": "stream",
     "text": [
      "12\\34\n"
     ]
    }
   ],
   "source": [
    "s='12\\\\34'\n",
    "print(s)"
   ]
  },
  {
   "cell_type": "code",
   "execution_count": 7,
   "id": "26238391",
   "metadata": {},
   "outputs": [
    {
     "data": {
      "text/plain": [
       "'this\\\\has\\\\no\\\\special\\\\characters'"
      ]
     },
     "execution_count": 7,
     "metadata": {},
     "output_type": "execute_result"
    }
   ],
   "source": [
    "#문자열 앞에 r을 써서 문자열을 있는 그대로 해석하도록 할 수 있다.\n",
    "st = r'this\\has\\no\\special\\characters'\n",
    "st"
   ]
  },
  {
   "cell_type": "markdown",
   "id": "665f022f",
   "metadata": {},
   "source": [
    "### format 메서드"
   ]
  },
  {
   "cell_type": "code",
   "execution_count": 9,
   "id": "dc67b7fb",
   "metadata": {},
   "outputs": [
    {
     "data": {
      "text/plain": [
       "'4.56 Argentine Pesos are worth US$1'"
      ]
     },
     "execution_count": 9,
     "metadata": {},
     "output_type": "execute_result"
    }
   ],
   "source": [
    "template = '{0:.2f} {1:s} are worth US${2:d}'\n",
    "template.format(4.5560, 'Argentine Pesos', 1)"
   ]
  },
  {
   "cell_type": "markdown",
   "id": "1b51b013",
   "metadata": {},
   "source": [
    "# 삼항 표현식\n",
    "\n",
    "if-else 블록을 한 줄로 표현할 수 있도록 함."
   ]
  },
  {
   "cell_type": "code",
   "execution_count": 10,
   "id": "08a90634",
   "metadata": {},
   "outputs": [
    {
     "data": {
      "text/plain": [
       "'Non-negative'"
      ]
     },
     "execution_count": 10,
     "metadata": {},
     "output_type": "execute_result"
    }
   ],
   "source": [
    "x=5\n",
    "\n",
    "'Non-negative' if x>=0 else 'Negative'"
   ]
  }
 ],
 "metadata": {
  "kernelspec": {
   "display_name": "Python 3 (ipykernel)",
   "language": "python",
   "name": "python3"
  },
  "language_info": {
   "codemirror_mode": {
    "name": "ipython",
    "version": 3
   },
   "file_extension": ".py",
   "mimetype": "text/x-python",
   "name": "python",
   "nbconvert_exporter": "python",
   "pygments_lexer": "ipython3",
   "version": "3.9.7"
  }
 },
 "nbformat": 4,
 "nbformat_minor": 5
}
